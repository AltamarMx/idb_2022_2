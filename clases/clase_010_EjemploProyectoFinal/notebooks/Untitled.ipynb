{
 "cells": [
  {
   "cell_type": "code",
   "execution_count": 2,
   "metadata": {},
   "outputs": [
    {
     "name": "stdout",
     "output_type": "stream",
     "text": [
      "Collecting git+https://github.com/AltamarMx/geetools.git\n",
      "  Cloning https://github.com/AltamarMx/geetools.git to c:\\users\\gbv\\appdata\\local\\temp\\pip-req-build-4c_kp171\n",
      "  Resolved https://github.com/AltamarMx/geetools.git to commit cec14df746a3d366f572360833b9fc78da8cf040\n",
      "  Preparing metadata (setup.py): started\n",
      "  Preparing metadata (setup.py): finished with status 'done'\n",
      "Requirement already satisfied: requests in c:\\users\\gbv\\documents\\wpy64-3870\\python-3.8.7.amd64\\lib\\site-packages (from geetools==0.1.0) (2.25.1)\n",
      "Requirement already satisfied: pandas in c:\\users\\gbv\\documents\\wpy64-3870\\python-3.8.7.amd64\\lib\\site-packages (from geetools==0.1.0) (1.3.5)\n",
      "Requirement already satisfied: numpy in c:\\users\\gbv\\documents\\wpy64-3870\\python-3.8.7.amd64\\lib\\site-packages (from geetools==0.1.0) (1.19.4+mkl)\n",
      "Collecting datetime\n",
      "  Downloading DateTime-4.4-py2.py3-none-any.whl (51 kB)\n",
      "Requirement already satisfied: pytz in c:\\users\\gbv\\documents\\wpy64-3870\\python-3.8.7.amd64\\lib\\site-packages (from datetime->geetools==0.1.0) (2020.4)\n",
      "Collecting zope.interface\n",
      "  Downloading zope.interface-5.4.0-cp38-cp38-win_amd64.whl (210 kB)\n",
      "Requirement already satisfied: python-dateutil>=2.7.3 in c:\\users\\gbv\\documents\\wpy64-3870\\python-3.8.7.amd64\\lib\\site-packages (from pandas->geetools==0.1.0) (2.8.1)\n",
      "Requirement already satisfied: idna<3,>=2.5 in c:\\users\\gbv\\documents\\wpy64-3870\\python-3.8.7.amd64\\lib\\site-packages (from requests->geetools==0.1.0) (2.10)\n",
      "Requirement already satisfied: certifi>=2017.4.17 in c:\\users\\gbv\\documents\\wpy64-3870\\python-3.8.7.amd64\\lib\\site-packages (from requests->geetools==0.1.0) (2020.12.5)\n",
      "Requirement already satisfied: urllib3<1.27,>=1.21.1 in c:\\users\\gbv\\documents\\wpy64-3870\\python-3.8.7.amd64\\lib\\site-packages (from requests->geetools==0.1.0) (1.26.2)\n",
      "Requirement already satisfied: chardet<5,>=3.0.2 in c:\\users\\gbv\\documents\\wpy64-3870\\python-3.8.7.amd64\\lib\\site-packages (from requests->geetools==0.1.0) (3.0.4)\n",
      "Requirement already satisfied: six>=1.5 in c:\\users\\gbv\\documents\\wpy64-3870\\python-3.8.7.amd64\\lib\\site-packages (from python-dateutil>=2.7.3->pandas->geetools==0.1.0) (1.15.0)\n",
      "Requirement already satisfied: setuptools in c:\\users\\gbv\\documents\\wpy64-3870\\python-3.8.7.amd64\\lib\\site-packages (from zope.interface->datetime->geetools==0.1.0) (51.1.0)\n",
      "Building wheels for collected packages: geetools\n",
      "  Building wheel for geetools (setup.py): started\n",
      "  Building wheel for geetools (setup.py): finished with status 'done'\n",
      "  Created wheel for geetools: filename=geetools-0.1.0-py3-none-any.whl size=6617 sha256=2c2be0be755c853a5391bdff146c87d17d9e7ed4736aebf1564b54f9a38ec2cf\n",
      "  Stored in directory: C:\\Users\\gbv\\AppData\\Local\\Temp\\pip-ephem-wheel-cache-tjfp9y93\\wheels\\75\\b2\\ab\\d426d030e73788c8f6667af090ccb78a37998b8972f8f39b08\n",
      "Successfully built geetools\n",
      "Installing collected packages: zope.interface, datetime, geetools\n",
      "Successfully installed datetime-4.4 geetools-0.1.0 zope.interface-5.4.0\n"
     ]
    },
    {
     "name": "stderr",
     "output_type": "stream",
     "text": [
      "  Running command git clone --filter=blob:none -q https://github.com/AltamarMx/geetools.git 'C:\\Users\\gbv\\AppData\\Local\\Temp\\pip-req-build-4c_kp171'\n",
      "WARNING: You are using pip version 21.3.1; however, version 22.0.4 is available.\n",
      "You should consider upgrading via the 'C:\\Users\\gbv\\Documents\\WPy64-3870\\python-3.8.7.amd64\\python.exe -m pip install --upgrade pip' command.\n"
     ]
    },
    {
     "name": "stdout",
     "output_type": "stream",
     "text": [
      "Collecting git+https://github.com/AltamarMx/geetools.git\n",
      "  Cloning https://github.com/AltamarMx/geetools.git to c:\\users\\gbv\\appdata\\local\\temp\\pip-req-build-vh6v88q_\n",
      "  Resolved https://github.com/AltamarMx/geetools.git to commit cec14df746a3d366f572360833b9fc78da8cf040\n",
      "  Preparing metadata (setup.py): started\n",
      "  Preparing metadata (setup.py): finished with status 'done'\n",
      "Requirement already satisfied: requests in c:\\users\\gbv\\documents\\wpy64-3870\\python-3.8.7.amd64\\lib\\site-packages (from geetools==0.1.0) (2.25.1)\n",
      "Requirement already satisfied: pandas in c:\\users\\gbv\\documents\\wpy64-3870\\python-3.8.7.amd64\\lib\\site-packages (from geetools==0.1.0) (1.3.5)\n",
      "Requirement already satisfied: numpy in c:\\users\\gbv\\documents\\wpy64-3870\\python-3.8.7.amd64\\lib\\site-packages (from geetools==0.1.0) (1.19.4+mkl)\n",
      "Collecting datetime\n",
      "  Using cached DateTime-4.4-py2.py3-none-any.whl (51 kB)\n",
      "Collecting zope.interface\n",
      "  Using cached zope.interface-5.4.0-cp38-cp38-win_amd64.whl (210 kB)\n",
      "Requirement already satisfied: pytz in c:\\users\\gbv\\documents\\wpy64-3870\\python-3.8.7.amd64\\lib\\site-packages (from datetime->geetools==0.1.0) (2020.4)\n",
      "Requirement already satisfied: python-dateutil>=2.7.3 in c:\\users\\gbv\\documents\\wpy64-3870\\python-3.8.7.amd64\\lib\\site-packages (from pandas->geetools==0.1.0) (2.8.1)\n",
      "Requirement already satisfied: certifi>=2017.4.17 in c:\\users\\gbv\\documents\\wpy64-3870\\python-3.8.7.amd64\\lib\\site-packages (from requests->geetools==0.1.0) (2020.12.5)\n",
      "Requirement already satisfied: idna<3,>=2.5 in c:\\users\\gbv\\documents\\wpy64-3870\\python-3.8.7.amd64\\lib\\site-packages (from requests->geetools==0.1.0) (2.10)\n",
      "Requirement already satisfied: urllib3<1.27,>=1.21.1 in c:\\users\\gbv\\documents\\wpy64-3870\\python-3.8.7.amd64\\lib\\site-packages (from requests->geetools==0.1.0) (1.26.2)\n",
      "Requirement already satisfied: chardet<5,>=3.0.2 in c:\\users\\gbv\\documents\\wpy64-3870\\python-3.8.7.amd64\\lib\\site-packages (from requests->geetools==0.1.0) (3.0.4)\n",
      "Requirement already satisfied: six>=1.5 in c:\\users\\gbv\\documents\\wpy64-3870\\python-3.8.7.amd64\\lib\\site-packages (from python-dateutil>=2.7.3->pandas->geetools==0.1.0) (1.15.0)\n",
      "Requirement already satisfied: setuptools in c:\\users\\gbv\\documents\\wpy64-3870\\python-3.8.7.amd64\\lib\\site-packages (from zope.interface->datetime->geetools==0.1.0) (51.1.0)\n",
      "Building wheels for collected packages: geetools\n",
      "  Building wheel for geetools (setup.py): started\n",
      "  Building wheel for geetools (setup.py): finished with status 'done'\n",
      "  Created wheel for geetools: filename=geetools-0.1.0-py3-none-any.whl size=6617 sha256=cd4be4105fec3886b9ab8f2c82d964787d8f3777b0de30c5644adadc0d957073\n",
      "  Stored in directory: C:\\Users\\gbv\\AppData\\Local\\Temp\\pip-ephem-wheel-cache-uyay_dl5\\wheels\\75\\b2\\ab\\d426d030e73788c8f6667af090ccb78a37998b8972f8f39b08\n",
      "Successfully built geetools\n",
      "Installing collected packages: zope.interface, datetime, geetools\n",
      "Successfully installed datetime-4.4 geetools-0.1.0 zope.interface-5.4.0\n",
      "Note: you may need to restart the kernel to use updated packages.\n"
     ]
    },
    {
     "name": "stderr",
     "output_type": "stream",
     "text": [
      "  Running command git clone --filter=blob:none -q https://github.com/AltamarMx/geetools.git 'C:\\Users\\gbv\\AppData\\Local\\Temp\\pip-req-build-vh6v88q_'\n",
      "WARNING: You are using pip version 21.3.1; however, version 22.0.4 is available.\n",
      "You should consider upgrading via the 'C:\\Users\\gbv\\Documents\\WPy64-3870\\python-3.8.7.amd64\\python.exe -m pip install --upgrade pip' command.\n"
     ]
    }
   ],
   "source": [
    "pip install git+https://github.com/AltamarMx/geetools.git"
   ]
  },
  {
   "cell_type": "code",
   "execution_count": null,
   "metadata": {},
   "outputs": [],
   "source": [
    "from gee"
   ]
  }
 ],
 "metadata": {
  "kernelspec": {
   "display_name": "Python 3",
   "language": "python",
   "name": "python3"
  },
  "language_info": {
   "codemirror_mode": {
    "name": "ipython",
    "version": 3
   },
   "file_extension": ".py",
   "mimetype": "text/x-python",
   "name": "python",
   "nbconvert_exporter": "python",
   "pygments_lexer": "ipython3",
   "version": "3.8.7"
  }
 },
 "nbformat": 4,
 "nbformat_minor": 4
}
