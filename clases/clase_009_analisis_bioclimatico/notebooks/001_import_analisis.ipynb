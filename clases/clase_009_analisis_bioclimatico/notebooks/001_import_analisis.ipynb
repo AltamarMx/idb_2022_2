{
 "cells": [
  {
   "cell_type": "code",
   "execution_count": 1,
   "metadata": {},
   "outputs": [],
   "source": [
    "import pandas as pd\n",
    "import matplotlib.pyplot as plt\n",
    "from readeplus_sql import *\n"
   ]
  },
  {
   "cell_type": "code",
   "execution_count": 2,
   "metadata": {},
   "outputs": [],
   "source": [
    "f = \"../osm/cubo_001/run/eplusout.sql\"\n",
    "df = read_eplusql(f,read='data',rename=True) #by default reads everything and rename Ti,To\n",
    "# df.vars\n",
    "df.rename_cols([3],[\"Ti\"])\n",
    "cv = df.get_data([\"To\",\"Ti\"])"
   ]
  },
  {
   "cell_type": "code",
   "execution_count": 17,
   "metadata": {},
   "outputs": [],
   "source": [
    "# f = \"../osm/caso_color/run/eplusout.sql\"\n",
    "# df = read_eplusql(f,read='data',rename=False) #by default reads everything and rename Ti,To\n",
    "# df.vars\n",
    "# df.rename_cols([3],[\"Ti\"])\n",
    "# cc = df.get_data([\"To\",\"Ti\"])\n",
    "cc  = cv + 1.5"
   ]
  },
  {
   "cell_type": "code",
   "execution_count": 21,
   "metadata": {},
   "outputs": [],
   "source": [
    "Ti_cv = cv.Ti.resample(\"1M\").max()\n",
    "Ti_cc = cc.Ti.resample(\"1M\").max()"
   ]
  },
  {
   "cell_type": "code",
   "execution_count": 22,
   "metadata": {},
   "outputs": [
    {
     "data": {
      "text/plain": [
       "date\n",
       "2006-01-31    32.364118\n",
       "2006-02-28    34.732286\n",
       "2006-03-31    37.902856\n",
       "2006-04-30    37.525728\n",
       "2006-05-31    38.123425\n",
       "2006-06-30    35.451041\n",
       "2006-07-31    33.190091\n",
       "2006-08-31    33.201900\n",
       "2006-09-30    34.894538\n",
       "2006-10-31    34.453887\n",
       "2006-11-30    33.314047\n",
       "2006-12-31    33.016299\n",
       "Freq: M, Name: Ti, dtype: float64"
      ]
     },
     "execution_count": 22,
     "metadata": {},
     "output_type": "execute_result"
    }
   ],
   "source": [
    "Ti_cv"
   ]
  },
  {
   "cell_type": "code",
   "execution_count": 23,
   "metadata": {},
   "outputs": [
    {
     "data": {
      "text/plain": [
       "date\n",
       "2006-01-31    33.864118\n",
       "2006-02-28    36.232286\n",
       "2006-03-31    39.402856\n",
       "2006-04-30    39.025728\n",
       "2006-05-31    39.623425\n",
       "2006-06-30    36.951041\n",
       "2006-07-31    34.690091\n",
       "2006-08-31    34.701900\n",
       "2006-09-30    36.394538\n",
       "2006-10-31    35.953887\n",
       "2006-11-30    34.814047\n",
       "2006-12-31    34.516299\n",
       "Freq: M, Name: Ti, dtype: float64"
      ]
     },
     "execution_count": 23,
     "metadata": {},
     "output_type": "execute_result"
    }
   ],
   "source": [
    "Ti_cc"
   ]
  },
  {
   "cell_type": "code",
   "execution_count": 24,
   "metadata": {},
   "outputs": [
    {
     "data": {
      "text/plain": [
       "date\n",
       "2006-01-31   -1.5\n",
       "2006-02-28   -1.5\n",
       "2006-03-31   -1.5\n",
       "2006-04-30   -1.5\n",
       "2006-05-31   -1.5\n",
       "2006-06-30   -1.5\n",
       "2006-07-31   -1.5\n",
       "2006-08-31   -1.5\n",
       "2006-09-30   -1.5\n",
       "2006-10-31   -1.5\n",
       "2006-11-30   -1.5\n",
       "2006-12-31   -1.5\n",
       "Freq: M, Name: Ti, dtype: float64"
      ]
     },
     "execution_count": 24,
     "metadata": {},
     "output_type": "execute_result"
    }
   ],
   "source": [
    "Ti_cv - Ti_cc "
   ]
  },
  {
   "cell_type": "code",
   "execution_count": 26,
   "metadata": {},
   "outputs": [
    {
     "data": {
      "text/plain": [
       "<AxesSubplot:xlabel='date'>"
      ]
     },
     "execution_count": 26,
     "metadata": {},
     "output_type": "execute_result"
    },
    {
     "data": {
      "image/png": "[encoded data removed]",
      "text/plain": [
       "<Figure size 432x288 with 1 Axes>"
      ]
     },
     "metadata": {
      "needs_background": "light"
     },
     "output_type": "display_data"
    }
   ],
   "source": [
    "Ti_cv.plot()\n",
    "Ti_cc.plot()"
   ]
  },
  {
   "cell_type": "code",
   "execution_count": null,
   "metadata": {},
   "outputs": [],
   "source": []
  }
 ],
 "metadata": {
  "kernelspec": {
   "display_name": "Python 3",
   "language": "python",
   "name": "python3"
  },
  "language_info": {
   "codemirror_mode": {
    "name": "ipython",
    "version": 3
   },
   "file_extension": ".py",
   "mimetype": "text/x-python",
   "name": "python",
   "nbconvert_exporter": "python",
   "pygments_lexer": "ipython3",
   "version": "3.8.7"
  }
 },
 "nbformat": 4,
 "nbformat_minor": 4
}
