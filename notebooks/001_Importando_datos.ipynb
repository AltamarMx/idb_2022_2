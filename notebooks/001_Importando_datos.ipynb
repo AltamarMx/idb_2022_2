{
 "cells": [
  {
   "cell_type": "code",
   "execution_count": 1,
   "metadata": {},
   "outputs": [],
   "source": [
    "import pandas as pd\n",
    "import matplotlib.pyplot as plt\n",
    "from dateutil.parser import parse\n"
   ]
  },
  {
   "cell_type": "code",
   "execution_count": 2,
   "metadata": {},
   "outputs": [],
   "source": [
    "file = \"../osm/clase_006/cubos_003/run/002_export_variable_to_csv/report_ZoneMeanAirTemperature_ZoneTimestep.csv\"\n",
    "Ti = pd.read_csv(file,names=[\"tiempo\",\"Z1\",\"Z2\",\"Z3\"],skiprows=1,index_col=0,parse_dates=True)\n",
    "\n",
    "file = \"../osm/clase_006/cubos_002/run/003_export_variable_to_csv/report_SiteOutdoorAirDrybulbTemperature_ZoneTimestep.csv\"\n",
    "To = pd.read_csv(file,names=[\"tiempo\",\"To\"],skiprows=1,index_col=0,parse_dates=True)\n",
    "# To.index\n",
    "datos = pd.concat([Ti,To],axis=1)\n"
   ]
  },
  {
   "cell_type": "code",
   "execution_count": 3,
   "metadata": {},
   "outputs": [],
   "source": [
    "# datos.plot(figsize=(12,6),subplots=True)"
   ]
  },
  {
   "cell_type": "code",
   "execution_count": 4,
   "metadata": {},
   "outputs": [
    {
     "data": {
      "text/plain": [
       "DatetimeIndex(['2006-01-01 00:10:00', '2006-01-01 00:20:00',\n",
       "               '2006-01-01 00:30:00', '2006-01-01 00:40:00',\n",
       "               '2006-01-01 00:50:00', '2006-01-01 01:00:00',\n",
       "               '2006-01-01 01:10:00', '2006-01-01 01:20:00',\n",
       "               '2006-01-01 01:30:00', '2006-01-01 01:40:00',\n",
       "               ...\n",
       "               '2006-12-31 22:30:00', '2006-12-31 22:40:00',\n",
       "               '2006-12-31 22:50:00', '2006-12-31 23:00:00',\n",
       "               '2006-12-31 23:10:00', '2006-12-31 23:20:00',\n",
       "               '2006-12-31 23:30:00', '2006-12-31 23:40:00',\n",
       "               '2006-12-31 23:50:00', '2007-01-01 00:00:00'],\n",
       "              dtype='datetime64[ns]', name='tiempo', length=52560, freq=None)"
      ]
     },
     "execution_count": 4,
     "metadata": {},
     "output_type": "execute_result"
    }
   ],
   "source": [
    "datos.index"
   ]
  },
  {
   "cell_type": "code",
   "execution_count": 5,
   "metadata": {},
   "outputs": [
    {
     "data": {
      "text/plain": [
       "(10.0, 45.0)"
      ]
     },
     "execution_count": 5,
     "metadata": {},
     "output_type": "execute_result"
    },
    {
     "data": {
      "image/png": "[encoded data removed]",
      "text/plain": [
       "<Figure size 864x216 with 1 Axes>"
      ]
     },
     "metadata": {
      "needs_background": "light"
     },
     "output_type": "display_data"
    }
   ],
   "source": [
    "fig, ax = plt.subplots(figsize=(12,3))\n",
    "\n",
    "fecha1 = parse(\"2006-04-01\")\n",
    "fecha2 = fecha1 + pd.Timedelta(\"1D\")\n",
    "\n",
    "ax.plot(datos.To,label=\"To\")\n",
    "ax.plot(datos.Z1,label=\"Z1\")\n",
    "ax.plot(datos.Z2,label=\"Z2\")\n",
    "\n",
    "ax.legend()\n",
    "ax.set_xlim(fecha1,fecha2)\n",
    "ax.set_ylim(10,45)\n"
   ]
  },
  {
   "cell_type": "code",
   "execution_count": null,
   "metadata": {},
   "outputs": [],
   "source": []
  }
 ],
 "metadata": {
  "kernelspec": {
   "display_name": "Python 3",
   "language": "python",
   "name": "python3"
  },
  "language_info": {
   "codemirror_mode": {
    "name": "ipython",
    "version": 3
   },
   "file_extension": ".py",
   "mimetype": "text/x-python",
   "name": "python",
   "nbconvert_exporter": "python",
   "pygments_lexer": "ipython3",
   "version": "3.8.7"
  }
 },
 "nbformat": 4,
 "nbformat_minor": 4
}
